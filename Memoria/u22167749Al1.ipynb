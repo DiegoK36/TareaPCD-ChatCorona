{
 "cells": [
  {
   "cell_type": "markdown",
   "id": "321b5948-3164-4106-8ac6-f9e509866ce5",
   "metadata": {},
   "source": [
    "<!-- PROFILE LINK -->\n",
    "\n",
    "<h1 style = \"text-align:center; font-size: 30px\">PROGRAMACIÓN CONCURRENTE Y DISTRIBUIDA</h1>\n",
    "<a href =\"https://github.com/diegok36\">\n",
    "<img src=\"https://avatars.githubusercontent.com/u/99168948?v=4\" style=\"float:left;vertical-align:centre\" width=\"110\" height=\"110\" title = \"Diego Rodriguez Sanz 22167749\">\n",
    "<a href =\"https://github.com/diegok36?tab=repositories\">\n",
    "<img src=\"https://media-exp1.licdn.com/dms/image/C4D0BAQEu_Aa76fcmPw/company-logo_200_200/0/1630998679429?e=2159024400&v=beta&t=2feC9GG7RWCWizTqsK5HzDWB1TL2DOQuAVwnMf6FFvk\" title = \"M41\" alt=\"UE\" width=\"110\" height=\"110\" style=\"float:right;vertical-align:centre\">"
   ]
  },
  {
   "cell_type": "markdown",
   "id": "892ec7d4-a018-4df1-9681-35cf85ba9034",
   "metadata": {},
   "source": [
    "# 1 - Modificaciones en el Código"
   ]
  },
  {
   "cell_type": "markdown",
   "id": "4603146c-c479-4684-9d50-aad37f163832",
   "metadata": {},
   "source": [
    "LINK AL REPOSITORIO -> https://github.com/DiegoK36/TareaPCD-ChatCorona"
   ]
  },
  {
   "cell_type": "markdown",
   "id": "759ff884-bfc4-4073-a0bc-88f110d9b1a8",
   "metadata": {},
   "source": [
    "<img src=\"22167749-1. CodigoCliente.png\">"
   ]
  },
  {
   "cell_type": "markdown",
   "id": "5de43c18-efe2-4385-be1e-c1a874e883e7",
   "metadata": {},
   "source": [
    "### Figura 1 Cliente"
   ]
  },
  {
   "cell_type": "markdown",
   "id": "17292146-f872-4c98-a23c-b24b747dfb95",
   "metadata": {},
   "source": [
    "Inicialmente, se importan las librerias necesarias para desarrollar el código (Entre ellas las que utilizaremos para manejar hilos y el shocket)."
   ]
  },
  {
   "cell_type": "markdown",
   "id": "a6f8750e-1e6d-459e-8f7a-ed2ce0a029b9",
   "metadata": {},
   "source": [
    "Tras esto, al definir la clase del cliente, almacenamos la IP, puerto y nickname solicitado en sus respectivas variables."
   ]
  },
  {
   "cell_type": "markdown",
   "id": "726da20b-3a9f-476d-a746-db526d5ee0ee",
   "metadata": {},
   "source": [
    "El cuadrado en rojo indica la modificación que he realizado, para almacenar el nickname en la variable nick que utilizaremos más adelante."
   ]
  },
  {
   "cell_type": "markdown",
   "id": "fed8ada1-1fc9-4438-92fc-0337f67f68bd",
   "metadata": {},
   "source": [
    "Tras esto, se procede a almacenar el nick en un archivo denominado \"uUsers22167749Al1.txt\", desde el cual se imprimiran los usuarios conectados más adelante."
   ]
  },
  {
   "cell_type": "markdown",
   "id": "3773d319-3d41-4491-9c0c-a44afac2f01a",
   "metadata": {},
   "source": [
    "El resto del código corresponde al manejo de hilos del cliente, el cual no ha sido modificado."
   ]
  },
  {
   "cell_type": "markdown",
   "id": "88153064-2b12-423f-ba28-31e6e3c80a67",
   "metadata": {},
   "source": [
    "<img src=\"22167749-2.CodigoCliente.png\">"
   ]
  },
  {
   "cell_type": "markdown",
   "id": "997ff124-d231-441b-8b85-7cee11ecf45b",
   "metadata": {},
   "source": [
    "### Figura 2 Cliente"
   ]
  },
  {
   "cell_type": "markdown",
   "id": "0c7d58ad-cdce-4fa8-ae48-fc24193aeea9",
   "metadata": {},
   "source": [
    "Tras el código anterior, se ejecuta un while encargado de enviar los mensajes hasta que el usuario decida salir del menú."
   ]
  },
  {
   "cell_type": "markdown",
   "id": "b17f1b37-78a5-4647-8d5a-1da581b0d4d2",
   "metadata": {},
   "source": [
    "El mensaje ha sido modificado para que aparezca el nick del usuario en la petición de escribir un mensaje (CUADRO ROJO)."
   ]
  },
  {
   "cell_type": "markdown",
   "id": "eee723ff-64b3-4455-9b72-54b59cdcb15f",
   "metadata": {},
   "source": [
    "Tras ello, se enviará el nickname correspondiente junto al mensaje introducido al servidor, el cual a través del broadcast los distribuirá al resto de usuarios (CUADRO ROJO)."
   ]
  },
  {
   "cell_type": "markdown",
   "id": "732f9bb9-e4c0-4996-8a6f-0a11fcba459a",
   "metadata": {},
   "source": [
    "En caso de que el cliente decida salir del chat, se procederá a eliminar el archivo que contiene los nicknames ya que se dará el chat como finalizado (CUADRO MORADO)"
   ]
  },
  {
   "cell_type": "markdown",
   "id": "0fb8dad5-4235-4128-8f30-fe1e5e5e5c20",
   "metadata": {},
   "source": [
    "Por último, todos estos mensajes se irán guardando en el archivo \"u22167749Al1\", el cuál registrará el historial del chat en cuestión (CUADRO AZUL)"
   ]
  },
  {
   "cell_type": "markdown",
   "id": "4d28d29d-ad1e-4b64-8ece-7ec2b687a4f6",
   "metadata": {},
   "source": [
    "El resto del código no ha sido modificado, por lo tanto las funciones quedan idénticas a las originales."
   ]
  },
  {
   "cell_type": "markdown",
   "id": "6a9f579b-1fd3-4c09-a80f-26800b8caffc",
   "metadata": {},
   "source": [
    "<img src=\"22167749-CodigoServer.png\">"
   ]
  },
  {
   "cell_type": "markdown",
   "id": "88e1aaef-afaa-47a3-9c1f-4ee59bc844ac",
   "metadata": {},
   "source": [
    "### Figura 1 Servidor"
   ]
  },
  {
   "cell_type": "markdown",
   "id": "27fcdb29-2720-45b3-b9bd-8e656252228a",
   "metadata": {},
   "source": [
    "En cuanto al código del servidor, no se han realizado modificaciones en gran medida debido a que no ha sido requerido."
   ]
  },
  {
   "cell_type": "markdown",
   "id": "650c0ef5-916f-4a41-a48e-ccfd3d612de0",
   "metadata": {},
   "source": [
    "Lo único que se ha incluido es, en la función encargada del broadcast, la lectura de la lista de nicknames de clientes y la muestra en pantalla en el servidor."
   ]
  },
  {
   "cell_type": "markdown",
   "id": "60e46649-40ab-48d5-9654-c39e29ac8ce4",
   "metadata": {},
   "source": [
    "De esta manera, el código cumple con todos los requisitos requeridos, los cuales se muestran a continuación."
   ]
  },
  {
   "cell_type": "markdown",
   "id": "82add4de-93c6-4609-a6fc-39eaeff4d977",
   "metadata": {},
   "source": [
    "# 2 - Funciones del Programa Final"
   ]
  },
  {
   "cell_type": "markdown",
   "id": "48100a44-3aa7-4ec6-bb87-fffc9ac87444",
   "metadata": {},
   "source": [
    "<img src=\"Cap1Terminal.jpg\">"
   ]
  },
  {
   "cell_type": "markdown",
   "id": "e4bc07e8-83ea-4e7a-8660-cf3348a037f7",
   "metadata": {},
   "source": [
    "### Figura 1 Ejecución"
   ]
  },
  {
   "cell_type": "markdown",
   "id": "11df1f80-eb12-406c-bc81-30abd6820dbd",
   "metadata": {},
   "source": [
    "Instanciamos los 6 clientes, conectados en el puerto 22167 y les damos sus diferentes nombres que aparecen en los cuadros rojos de cada terminal del cliente."
   ]
  },
  {
   "cell_type": "markdown",
   "id": "0d72c0cb-2c87-43e5-a5f6-ef4507ea2f9c",
   "metadata": {},
   "source": [
    "La conexión de cada uno es aceptada por el servidor, como se muestra en el recuadro rojo grande."
   ]
  },
  {
   "cell_type": "markdown",
   "id": "a83756ac-c6ba-45cc-895a-cb3e5549b264",
   "metadata": {},
   "source": [
    "Con esto, cumplimos son el apartado a) de la actividad."
   ]
  },
  {
   "cell_type": "markdown",
   "id": "1d8b486c-5058-4470-944e-d385977259d6",
   "metadata": {},
   "source": [
    "<img src=\"Cap2Terminal.jpg\">"
   ]
  },
  {
   "cell_type": "markdown",
   "id": "c99d5bb8-9976-4311-b89e-c76ba0794c47",
   "metadata": {},
   "source": [
    "### Figura 2 Ejecución"
   ]
  },
  {
   "cell_type": "markdown",
   "id": "dbafa85a-6869-4ca0-94a4-8b3ece2911d4",
   "metadata": {},
   "source": [
    "Como se observa en la imagen, el cliente Diego procede a mandar el mensaje \"Holaaa\" el cual es recibido por el resto de usuarios de manera exitosa."
   ]
  },
  {
   "cell_type": "markdown",
   "id": "c02d4c6e-b8c1-4f20-b5b9-272a35b5697a",
   "metadata": {},
   "source": [
    "El mensaje le aparece a cada uno de los clientes con el nickname del cliente (en este caso Diego), seguido de dos puntos y el mensaje en cuestión."
   ]
  },
  {
   "cell_type": "markdown",
   "id": "177dbb85-8db2-473a-9894-d8f67c98fbba",
   "metadata": {},
   "source": [
    "Por último, el servidor al realizar el Broadcast, procede a imprimir la lista de cada uno de los usuarios con sus respectivos nicknames."
   ]
  },
  {
   "cell_type": "markdown",
   "id": "eab1ba87-c451-49cb-b0b0-ebe713fa3110",
   "metadata": {},
   "source": [
    "Al cerrar cualquiera de los clientes, el fichero con los nicknames de usuario se borra y queda limpio para el siguiente chat grupal."
   ]
  },
  {
   "cell_type": "markdown",
   "id": "5963eb9e-d7fd-4d93-b4c8-5b9e82d96b8a",
   "metadata": {},
   "source": [
    "Con esto, se cumplen tanto los requisitos del apartado b) como los del apartado c)."
   ]
  },
  {
   "cell_type": "markdown",
   "id": "686d664f-1800-42d6-bfd3-7af7694fbd4c",
   "metadata": {},
   "source": [
    "<img src=\"Cap3Terminal.jpg\">"
   ]
  },
  {
   "cell_type": "markdown",
   "id": "d2901b6a-41ae-4087-82c4-55a71e16a7d0",
   "metadata": {},
   "source": [
    "### Figura 3 Ejecución"
   ]
  },
  {
   "cell_type": "markdown",
   "id": "33d2063d-ef4f-4680-a370-69d21d171837",
   "metadata": {},
   "source": [
    "Por último, y para cumplir con el último apartado de programa, cada uno de los mensajes queda registrado en nuestro fichero \"u22167749Al1.txt\""
   ]
  },
  {
   "cell_type": "markdown",
   "id": "2db99e9b-3c28-44c8-a7bc-18c9813b984b",
   "metadata": {},
   "source": [
    "Entre los mensajes hay un salto del línea, y van acompañados de su correspondiente nickname."
   ]
  },
  {
   "cell_type": "markdown",
   "id": "e4862ce1-212d-4836-9eaf-d823b7db6730",
   "metadata": {},
   "source": [
    "Estos son algunos de prueba entre los cuales se incluye el primero que hicimos en la figura anterior, el cuál se guardó exitosamente."
   ]
  },
  {
   "cell_type": "markdown",
   "id": "6d9393b7-66e7-4ea5-bbe4-d507954c878f",
   "metadata": {},
   "source": [
    "Con todo esto, nuestro programa concluye su ejecución cumpliendo todos los requisitos requeridos en el enunciado."
   ]
  }
 ],
 "metadata": {
  "kernelspec": {
   "display_name": "Python 3 (ipykernel)",
   "language": "python",
   "name": "python3"
  },
  "language_info": {
   "codemirror_mode": {
    "name": "ipython",
    "version": 3
   },
   "file_extension": ".py",
   "mimetype": "text/x-python",
   "name": "python",
   "nbconvert_exporter": "python",
   "pygments_lexer": "ipython3",
   "version": "3.9.13"
  }
 },
 "nbformat": 4,
 "nbformat_minor": 5
}
